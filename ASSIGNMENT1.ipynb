{
 "cells": [
  {
   "cell_type": "markdown",
   "id": "4e0ce194-5496-4476-b9cd-1e10c30aec25",
   "metadata": {},
   "source": [
    "Q1. Create one variable containing following type of data:\n",
    "(i) string\n",
    "(ii) list\n",
    "(iii) float\n",
    "(iv) tuple"
   ]
  },
  {
   "cell_type": "code",
   "execution_count": 1,
   "id": "9d5d31a0-9f63-4eb8-a4f9-e2b285143098",
   "metadata": {},
   "outputs": [
    {
     "name": "stdout",
     "output_type": "stream",
     "text": [
      "<class 'str'>\n"
     ]
    }
   ],
   "source": [
    "str1 = \"hello world \"\n",
    "print(type(str1))"
   ]
  },
  {
   "cell_type": "code",
   "execution_count": 2,
   "id": "d7d3b4a6-c4cb-4752-8221-52d625bf80dc",
   "metadata": {},
   "outputs": [
    {
     "name": "stdout",
     "output_type": "stream",
     "text": [
      "<class 'list'>\n"
     ]
    }
   ],
   "source": [
    "lst1 = [1,2,3,\"name\",\"place\",\"age\"]\n",
    "print(type(lst1))\n"
   ]
  },
  {
   "cell_type": "code",
   "execution_count": 3,
   "id": "63fbce96-e4df-412c-ad0e-0d6d888e443e",
   "metadata": {},
   "outputs": [
    {
     "name": "stdout",
     "output_type": "stream",
     "text": [
      "<class 'float'>\n"
     ]
    }
   ],
   "source": [
    "flt = 5.20\n",
    "print(type(flt))"
   ]
  },
  {
   "cell_type": "code",
   "execution_count": 4,
   "id": "dc65a3c6-b774-47eb-9e48-b8a703355c37",
   "metadata": {},
   "outputs": [
    {
     "name": "stdout",
     "output_type": "stream",
     "text": [
      "<class 'tuple'>\n"
     ]
    }
   ],
   "source": [
    "tup = (1,2,3,\"name\",\"place\",\"age\")\n",
    "print(type(tup))"
   ]
  },
  {
   "cell_type": "markdown",
   "id": "47b98eee-3001-4e26-8186-be9c8670d4c3",
   "metadata": {},
   "source": [
    "Q2. Given are some following variables containing data:\n",
    "(i) var1 = ‘ ‘\n",
    "(ii) var2 = ‘[ DS , ML , Python]’\n",
    "(iii) var3 = [ ‘DS’ , ’ML’ , ‘Python’ ]\n",
    "(iv) var4 = 1.\n",
    "What will be the data type of the above given variable."
   ]
  },
  {
   "cell_type": "markdown",
   "id": "de0bba64-44f4-4f34-bdd0-2883f7b6a30d",
   "metadata": {},
   "source": [
    "(i) = String\n",
    "(ii) = String\n",
    "(iii) = List\n",
    "(iv) = Integer"
   ]
  },
  {
   "cell_type": "markdown",
   "id": "a0899e46-7fff-4454-b00e-71d572fdbfc2",
   "metadata": {},
   "source": [
    "Q3. Explain the use of the following operators using an example:\n",
    "(i) /\n",
    "(ii) %\n",
    "(iii) //\n",
    "(iv) **"
   ]
  },
  {
   "cell_type": "code",
   "execution_count": 8,
   "id": "7a0aedfc-372b-4bc4-b476-0f1fc992889c",
   "metadata": {},
   "outputs": [
    {
     "name": "stdout",
     "output_type": "stream",
     "text": [
      "5.0\n",
      "0\n",
      "5\n",
      "100\n"
     ]
    }
   ],
   "source": [
    "# / is use for division\n",
    "# % modulus output the remainder\n",
    "# // Floor Division\n",
    "# ** Exponential ratio\n",
    "A = 10\n",
    "B = 2\n",
    "print(A/B)\n",
    "print(A%B)\n",
    "print(A//B)\n",
    "print(A**B)"
   ]
  },
  {
   "cell_type": "markdown",
   "id": "c14364d0-e715-46b0-9c8f-4f8ff3e9bfb8",
   "metadata": {},
   "source": [
    "Q4. Create a list of length 10 of your choice containing multiple types of data. Using for loop print the\n",
    "element and its data type."
   ]
  },
  {
   "cell_type": "code",
   "execution_count": 14,
   "id": "aa98ac75-9dab-453f-b69f-1e96a87ca182",
   "metadata": {},
   "outputs": [
    {
     "name": "stdout",
     "output_type": "stream",
     "text": [
      "1 <class 'int'>\n",
      "2 <class 'int'>\n",
      "3 <class 'int'>\n",
      "gaurav <class 'str'>\n",
      "pune <class 'str'>\n",
      "5 <class 'int'>\n",
      "student <class 'str'>\n",
      "python <class 'str'>\n",
      "new <class 'str'>\n",
      "23 <class 'int'>\n"
     ]
    }
   ],
   "source": [
    "lst1 = [1,2,3,\"gaurav\",\"pune\",5,\"student\",\"python\",\"new\",23]\n",
    "\n",
    "for i in lst1 :\n",
    "    print(i , type(i))"
   ]
  },
  {
   "cell_type": "markdown",
   "id": "768be6b9-6518-46b9-88cd-1ca354038167",
   "metadata": {},
   "source": [
    "Q5. Using a while loop, verify if the number A is purely divisible by number B and if so then how many\n",
    "times it can be divisible."
   ]
  },
  {
   "cell_type": "code",
   "execution_count": 32,
   "id": "ed112cc4-3431-4473-99c1-30da54def3c9",
   "metadata": {},
   "outputs": [
    {
     "name": "stdin",
     "output_type": "stream",
     "text": [
      "Enter the 1st number 25\n",
      "Enter the 2nd number 5\n"
     ]
    },
    {
     "name": "stdout",
     "output_type": "stream",
     "text": [
      "A is divisible by B and 2 time\n"
     ]
    }
   ],
   "source": [
    "A = int(input(\"Enter the 1st number\"))\n",
    "B = int(input(\"Enter the 2nd number\"))\n",
    "i = 0\n",
    "while A%B == 0  :\n",
    "    A/=B\n",
    "    i += 1\n",
    "if i>0:\n",
    "    print (f\"A is divisible by B and {i} time\")\n",
    "else :\n",
    "    print(\"A is not divisible by B\")\n",
    "\n",
    "   \n",
    "\n",
    "    \n",
    "    "
   ]
  },
  {
   "cell_type": "markdown",
   "id": "1cfe20a0-8874-4217-a6bb-bf1363dd0f8c",
   "metadata": {},
   "source": [
    "Q6. Create a list containing 25 int type data. Using for loop and if-else condition print if the element is\n",
    "divisible by 3 or not."
   ]
  },
  {
   "cell_type": "code",
   "execution_count": 27,
   "id": "71ebec5b-65b6-4e74-b76d-3bb551dd1ddb",
   "metadata": {},
   "outputs": [
    {
     "name": "stdout",
     "output_type": "stream",
     "text": [
      "1 is not divisible by 3\n",
      "2 is not divisible by 3\n",
      "3 is divisible by 3\n",
      "4 is not divisible by 3\n",
      "5 is not divisible by 3\n",
      "6 is divisible by 3\n",
      "7 is not divisible by 3\n",
      "8 is not divisible by 3\n",
      "9 is divisible by 3\n",
      "10 is not divisible by 3\n",
      "11 is not divisible by 3\n",
      "12 is divisible by 3\n",
      "13 is not divisible by 3\n",
      "14 is not divisible by 3\n",
      "15 is divisible by 3\n",
      "16 is not divisible by 3\n",
      "17 is not divisible by 3\n",
      "18 is divisible by 3\n",
      "19 is not divisible by 3\n",
      "20 is not divisible by 3\n",
      "21 is divisible by 3\n",
      "22 is not divisible by 3\n",
      "23 is not divisible by 3\n",
      "24 is divisible by 3\n",
      "25 is not divisible by 3\n"
     ]
    }
   ],
   "source": [
    "A = [1,2,3,4,5,6,7,8,9,10,11,12,13,14,15,16,17,18,19,20,21,22,23,24,25]\n",
    "for i in A:\n",
    "    if i % 3 == 0:\n",
    "        print(f\"{i} is divisible by 3\")\n",
    "    else :\n",
    "        print(f\"{i} is not divisible by 3\")\n",
    "        "
   ]
  },
  {
   "cell_type": "markdown",
   "id": "c4544b7f-d97f-4196-b8a9-f78484a2712a",
   "metadata": {},
   "source": [
    "Q7. What do you understand about mutable and immutable data types? Give examples for both showing\n",
    "this property."
   ]
  },
  {
   "cell_type": "markdown",
   "id": "765bdc03-c1aa-462a-bfd2-ba6ccfe814a7",
   "metadata": {},
   "source": [
    "Answer : in simple words, Mutable are the things which can change for example \"List\"\n",
    "Immutable are the things which cannt be change for example \"String\" \"Tuple\""
   ]
  },
  {
   "cell_type": "code",
   "execution_count": 28,
   "id": "5d1c813d-bad1-42d0-b629-4ea9034d99e7",
   "metadata": {},
   "outputs": [
    {
     "ename": "TypeError",
     "evalue": "'str' object does not support item assignment",
     "output_type": "error",
     "traceback": [
      "\u001b[0;31m---------------------------------------------------------------------------\u001b[0m",
      "\u001b[0;31mTypeError\u001b[0m                                 Traceback (most recent call last)",
      "Cell \u001b[0;32mIn[28], line 3\u001b[0m\n\u001b[1;32m      1\u001b[0m \u001b[38;5;66;03m#IMMUTABLE\u001b[39;00m\n\u001b[1;32m      2\u001b[0m A \u001b[38;5;241m=\u001b[39m \u001b[38;5;124m\"\u001b[39m\u001b[38;5;124mGAURAV\u001b[39m\u001b[38;5;124m\"\u001b[39m\n\u001b[0;32m----> 3\u001b[0m \u001b[43mA\u001b[49m\u001b[43m[\u001b[49m\u001b[38;5;241;43m0\u001b[39;49m\u001b[43m]\u001b[49m \u001b[38;5;241m=\u001b[39m \u001b[38;5;124m\"\u001b[39m\u001b[38;5;124mR\u001b[39m\u001b[38;5;124m\"\u001b[39m\n\u001b[1;32m      4\u001b[0m \u001b[38;5;28mprint\u001b[39m(A)\n",
      "\u001b[0;31mTypeError\u001b[0m: 'str' object does not support item assignment"
     ]
    }
   ],
   "source": [
    "#IMMUTABLE\n",
    "A = \"GAURAV\"\n",
    "A[0] = \"R\"\n",
    "print(A)"
   ]
  },
  {
   "cell_type": "code",
   "execution_count": 29,
   "id": "a0598235-21d2-411a-86c2-ace1ee99f27c",
   "metadata": {},
   "outputs": [
    {
     "name": "stdout",
     "output_type": "stream",
     "text": [
      "['ROHIT', '32', 'AGE', 'PLACE']\n"
     ]
    }
   ],
   "source": [
    "#MUTABLE\n",
    "A = [\"GAURAV\" , \"32\" , \"AGE\" , \"PLACE\"]\n",
    "A[0] = \"ROHIT\"\n",
    "print(A)"
   ]
  },
  {
   "cell_type": "code",
   "execution_count": null,
   "id": "5a7cd09a-0404-4203-8e53-1861654bcec6",
   "metadata": {},
   "outputs": [],
   "source": []
  }
 ],
 "metadata": {
  "kernelspec": {
   "display_name": "Python 3 (ipykernel)",
   "language": "python",
   "name": "python3"
  },
  "language_info": {
   "codemirror_mode": {
    "name": "ipython",
    "version": 3
   },
   "file_extension": ".py",
   "mimetype": "text/x-python",
   "name": "python",
   "nbconvert_exporter": "python",
   "pygments_lexer": "ipython3",
   "version": "3.10.8"
  }
 },
 "nbformat": 4,
 "nbformat_minor": 5
}
